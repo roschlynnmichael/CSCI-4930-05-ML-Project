{
 "cells": [
  {
   "cell_type": "code",
   "execution_count": 1,
   "metadata": {},
   "outputs": [],
   "source": [
    "import pandas as pd"
   ]
  },
  {
   "cell_type": "code",
   "execution_count": 21,
   "metadata": {},
   "outputs": [
    {
     "data": {
      "text/html": [
       "<div>\n",
       "<style scoped>\n",
       "    .dataframe tbody tr th:only-of-type {\n",
       "        vertical-align: middle;\n",
       "    }\n",
       "\n",
       "    .dataframe tbody tr th {\n",
       "        vertical-align: top;\n",
       "    }\n",
       "\n",
       "    .dataframe thead th {\n",
       "        text-align: right;\n",
       "    }\n",
       "</style>\n",
       "<table border=\"1\" class=\"dataframe\">\n",
       "  <thead>\n",
       "    <tr style=\"text-align: right;\">\n",
       "      <th></th>\n",
       "      <th>ID</th>\n",
       "      <th>Name</th>\n",
       "      <th>Age</th>\n",
       "      <th>Career_Phase</th>\n",
       "      <th>Position</th>\n",
       "      <th>Sub_Position</th>\n",
       "      <th>Preferred_Foot</th>\n",
       "      <th>Height</th>\n",
       "      <th>Nationality</th>\n",
       "      <th>Birth_Date</th>\n",
       "      <th>...</th>\n",
       "      <th>Minutes_Per_Game</th>\n",
       "      <th>Recent_Goals</th>\n",
       "      <th>Recent_Assists</th>\n",
       "      <th>Recent_Minutes</th>\n",
       "      <th>Recent_Yellows</th>\n",
       "      <th>Recent_Reds</th>\n",
       "      <th>Recent_Games</th>\n",
       "      <th>transfermarkt_url</th>\n",
       "      <th>fbref_url</th>\n",
       "      <th>injury_history</th>\n",
       "    </tr>\n",
       "  </thead>\n",
       "  <tbody>\n",
       "    <tr>\n",
       "      <th>0</th>\n",
       "      <td>10</td>\n",
       "      <td>Miroslav Klose</td>\n",
       "      <td>46.477755</td>\n",
       "      <td>twilight</td>\n",
       "      <td>Attack</td>\n",
       "      <td>Centre-Forward</td>\n",
       "      <td>right</td>\n",
       "      <td>184.0</td>\n",
       "      <td>Germany</td>\n",
       "      <td>1978-06-09</td>\n",
       "      <td>...</td>\n",
       "      <td>64.764706</td>\n",
       "      <td>NaN</td>\n",
       "      <td>NaN</td>\n",
       "      <td>NaN</td>\n",
       "      <td>NaN</td>\n",
       "      <td>NaN</td>\n",
       "      <td>NaN</td>\n",
       "      <td>NaN</td>\n",
       "      <td>NaN</td>\n",
       "      <td>NaN</td>\n",
       "    </tr>\n",
       "    <tr>\n",
       "      <th>1</th>\n",
       "      <td>26</td>\n",
       "      <td>Roman Weidenfeller</td>\n",
       "      <td>44.317591</td>\n",
       "      <td>twilight</td>\n",
       "      <td>Goalkeeper</td>\n",
       "      <td>Goalkeeper</td>\n",
       "      <td>left</td>\n",
       "      <td>190.0</td>\n",
       "      <td>Germany</td>\n",
       "      <td>1980-08-06</td>\n",
       "      <td>...</td>\n",
       "      <td>88.868421</td>\n",
       "      <td>NaN</td>\n",
       "      <td>NaN</td>\n",
       "      <td>NaN</td>\n",
       "      <td>NaN</td>\n",
       "      <td>NaN</td>\n",
       "      <td>NaN</td>\n",
       "      <td>NaN</td>\n",
       "      <td>NaN</td>\n",
       "      <td>NaN</td>\n",
       "    </tr>\n",
       "    <tr>\n",
       "      <th>2</th>\n",
       "      <td>65</td>\n",
       "      <td>Dimitar Berbatov</td>\n",
       "      <td>43.832991</td>\n",
       "      <td>twilight</td>\n",
       "      <td>Attack</td>\n",
       "      <td>Centre-Forward</td>\n",
       "      <td>NaN</td>\n",
       "      <td>NaN</td>\n",
       "      <td>Bulgaria</td>\n",
       "      <td>1981-01-30</td>\n",
       "      <td>...</td>\n",
       "      <td>72.032787</td>\n",
       "      <td>NaN</td>\n",
       "      <td>NaN</td>\n",
       "      <td>NaN</td>\n",
       "      <td>NaN</td>\n",
       "      <td>NaN</td>\n",
       "      <td>NaN</td>\n",
       "      <td>NaN</td>\n",
       "      <td>NaN</td>\n",
       "      <td>NaN</td>\n",
       "    </tr>\n",
       "    <tr>\n",
       "      <th>3</th>\n",
       "      <td>77</td>\n",
       "      <td>Lúcio</td>\n",
       "      <td>46.565366</td>\n",
       "      <td>twilight</td>\n",
       "      <td>Defender</td>\n",
       "      <td>Centre-Back</td>\n",
       "      <td>NaN</td>\n",
       "      <td>NaN</td>\n",
       "      <td>Brazil</td>\n",
       "      <td>1978-05-08</td>\n",
       "      <td>...</td>\n",
       "      <td>76.750000</td>\n",
       "      <td>NaN</td>\n",
       "      <td>NaN</td>\n",
       "      <td>NaN</td>\n",
       "      <td>NaN</td>\n",
       "      <td>NaN</td>\n",
       "      <td>NaN</td>\n",
       "      <td>NaN</td>\n",
       "      <td>NaN</td>\n",
       "      <td>NaN</td>\n",
       "    </tr>\n",
       "    <tr>\n",
       "      <th>4</th>\n",
       "      <td>80</td>\n",
       "      <td>Tom Starke</td>\n",
       "      <td>43.704312</td>\n",
       "      <td>twilight</td>\n",
       "      <td>Goalkeeper</td>\n",
       "      <td>Goalkeeper</td>\n",
       "      <td>right</td>\n",
       "      <td>194.0</td>\n",
       "      <td>Germany</td>\n",
       "      <td>1981-03-18</td>\n",
       "      <td>...</td>\n",
       "      <td>90.000000</td>\n",
       "      <td>NaN</td>\n",
       "      <td>NaN</td>\n",
       "      <td>NaN</td>\n",
       "      <td>NaN</td>\n",
       "      <td>NaN</td>\n",
       "      <td>NaN</td>\n",
       "      <td>NaN</td>\n",
       "      <td>NaN</td>\n",
       "      <td>NaN</td>\n",
       "    </tr>\n",
       "  </tbody>\n",
       "</table>\n",
       "<p>5 rows × 37 columns</p>\n",
       "</div>"
      ],
      "text/plain": [
       "   ID                Name        Age Career_Phase    Position    Sub_Position  \\\n",
       "0  10      Miroslav Klose  46.477755     twilight      Attack  Centre-Forward   \n",
       "1  26  Roman Weidenfeller  44.317591     twilight  Goalkeeper      Goalkeeper   \n",
       "2  65    Dimitar Berbatov  43.832991     twilight      Attack  Centre-Forward   \n",
       "3  77               Lúcio  46.565366     twilight    Defender     Centre-Back   \n",
       "4  80          Tom Starke  43.704312     twilight  Goalkeeper      Goalkeeper   \n",
       "\n",
       "  Preferred_Foot  Height Nationality  Birth_Date  ... Minutes_Per_Game  \\\n",
       "0          right   184.0     Germany  1978-06-09  ...        64.764706   \n",
       "1           left   190.0     Germany  1980-08-06  ...        88.868421   \n",
       "2            NaN     NaN    Bulgaria  1981-01-30  ...        72.032787   \n",
       "3            NaN     NaN      Brazil  1978-05-08  ...        76.750000   \n",
       "4          right   194.0     Germany  1981-03-18  ...        90.000000   \n",
       "\n",
       "   Recent_Goals  Recent_Assists Recent_Minutes Recent_Yellows  Recent_Reds  \\\n",
       "0           NaN             NaN            NaN            NaN          NaN   \n",
       "1           NaN             NaN            NaN            NaN          NaN   \n",
       "2           NaN             NaN            NaN            NaN          NaN   \n",
       "3           NaN             NaN            NaN            NaN          NaN   \n",
       "4           NaN             NaN            NaN            NaN          NaN   \n",
       "\n",
       "   Recent_Games  transfermarkt_url  fbref_url  injury_history  \n",
       "0           NaN                NaN        NaN             NaN  \n",
       "1           NaN                NaN        NaN             NaN  \n",
       "2           NaN                NaN        NaN             NaN  \n",
       "3           NaN                NaN        NaN             NaN  \n",
       "4           NaN                NaN        NaN             NaN  \n",
       "\n",
       "[5 rows x 37 columns]"
      ]
     },
     "execution_count": 21,
     "metadata": {},
     "output_type": "execute_result"
    }
   ],
   "source": [
    "uncleaned_data = pd.read_csv(\"D:/Projects/Machine Learning Applications for Soccer/player_database.csv\")\n",
    "uncleaned_data.head()\n"
   ]
  },
  {
   "cell_type": "code",
   "execution_count": 22,
   "metadata": {},
   "outputs": [
    {
     "data": {
      "text/plain": [
       "ID                       0\n",
       "Name                     0\n",
       "Age                     47\n",
       "Career_Phase             0\n",
       "Position                 0\n",
       "Sub_Position           184\n",
       "Preferred_Foot        2598\n",
       "Height                2339\n",
       "Nationality            380\n",
       "Birth_Date              47\n",
       "Contract_Expiry      12110\n",
       "Current_Value         1541\n",
       "Peak_Value            1541\n",
       "Current_Club             0\n",
       "League_ID                0\n",
       "Squad_Size               0\n",
       "Team_Average_Age      1858\n",
       "Team_Total_Value     32417\n",
       "Coach                32417\n",
       "Career_Games          6967\n",
       "Career_Minutes        6967\n",
       "Career_Goals          6967\n",
       "Career_Assists        6967\n",
       "Career_Yellows        6967\n",
       "Career_Reds           6967\n",
       "Goals_Per_Game        6967\n",
       "Assists_Per_Game      6967\n",
       "Minutes_Per_Game      6967\n",
       "Recent_Goals         24567\n",
       "Recent_Assists       24567\n",
       "Recent_Minutes       24567\n",
       "Recent_Yellows       24567\n",
       "Recent_Reds          24567\n",
       "Recent_Games         24567\n",
       "transfermarkt_url    32417\n",
       "fbref_url            32417\n",
       "injury_history       32417\n",
       "dtype: int64"
      ]
     },
     "execution_count": 22,
     "metadata": {},
     "output_type": "execute_result"
    }
   ],
   "source": [
    "uncleaned_data.isnull().sum()\n"
   ]
  },
  {
   "cell_type": "code",
   "execution_count": 23,
   "metadata": {},
   "outputs": [
    {
     "data": {
      "text/plain": [
       "ID                       0\n",
       "Name                     0\n",
       "Age                     47\n",
       "Career_Phase             0\n",
       "Position                 0\n",
       "Sub_Position           184\n",
       "Preferred_Foot        2598\n",
       "Height                2339\n",
       "Nationality            380\n",
       "Birth_Date              47\n",
       "Contract_Expiry      12110\n",
       "Current_Value         1541\n",
       "Peak_Value            1541\n",
       "Current_Club             0\n",
       "League_ID                0\n",
       "Squad_Size               0\n",
       "Team_Average_Age      1858\n",
       "Team_Total_Value     32417\n",
       "Coach                32417\n",
       "Career_Games          6967\n",
       "Career_Minutes        6967\n",
       "Career_Goals          6967\n",
       "Career_Assists        6967\n",
       "Career_Yellows        6967\n",
       "Career_Reds           6967\n",
       "Goals_Per_Game        6967\n",
       "Assists_Per_Game      6967\n",
       "Minutes_Per_Game      6967\n",
       "Recent_Goals         24567\n",
       "Recent_Assists       24567\n",
       "Recent_Minutes       24567\n",
       "Recent_Yellows       24567\n",
       "Recent_Reds          24567\n",
       "Recent_Games         24567\n",
       "transfermarkt_url    32417\n",
       "fbref_url            32417\n",
       "injury_history       32417\n",
       "dtype: int64"
      ]
     },
     "execution_count": 23,
     "metadata": {},
     "output_type": "execute_result"
    }
   ],
   "source": [
    "uncleaned_data.isna().sum()\n"
   ]
  },
  {
   "cell_type": "code",
   "execution_count": 24,
   "metadata": {},
   "outputs": [],
   "source": [
    "cleaned_data = uncleaned_data.copy()"
   ]
  },
  {
   "cell_type": "code",
   "execution_count": 25,
   "metadata": {},
   "outputs": [],
   "source": [
    "columns_to_drop = [\n",
    "    'transfermarkt_url', 'fbref_url', 'injury_history', \n",
    "    'Team_Total_Value', 'Coach',\n",
    "    'Recent_Goals', 'Recent_Assists', 'Recent_Minutes',\n",
    "    'Recent_Yellows', 'Recent_Reds', 'Recent_Games'\n",
    "]\n",
    "cleaned_data = cleaned_data.drop(columns=columns_to_drop)\n"
   ]
  },
  {
   "cell_type": "code",
   "execution_count": 26,
   "metadata": {},
   "outputs": [],
   "source": [
    "cleaned_data['Birth_Date'] = pd.to_datetime(cleaned_data['Birth_Date'], errors='coerce')\n",
    "cleaned_data['Age'] = cleaned_data['Age'].fillna(\n",
    "    (pd.Timestamp.now() - cleaned_data['Birth_Date']).dt.total_seconds() / (365.25 * 24 * 60 * 60)\n",
    ")\n",
    "age_by_position = cleaned_data.groupby('Position')['Age'].transform('median')\n",
    "cleaned_data['Age'] = cleaned_data['Age'].fillna(age_by_position)\n",
    "cleaned_data['Age'] = cleaned_data['Age'].fillna(cleaned_data['Age'].median())\n"
   ]
  },
  {
   "cell_type": "code",
   "execution_count": 27,
   "metadata": {},
   "outputs": [],
   "source": [
    "cleaned_data['Sub_Position'] = cleaned_data['Sub_Position'].fillna(cleaned_data['Position'] + '_General')\n"
   ]
  },
  {
   "cell_type": "code",
   "execution_count": 28,
   "metadata": {},
   "outputs": [],
   "source": [
    "cleaned_data['Nationality'] = cleaned_data['Nationality'].fillna('Unknown')\n"
   ]
  },
  {
   "cell_type": "code",
   "execution_count": 29,
   "metadata": {},
   "outputs": [],
   "source": [
    "cleaned_data['Preferred_Foot'] = cleaned_data['Preferred_Foot'].fillna('Unknown')\n"
   ]
  },
  {
   "cell_type": "code",
   "execution_count": 30,
   "metadata": {},
   "outputs": [],
   "source": [
    "height_by_position = cleaned_data.groupby('Position')['Height'].transform('median')\n",
    "cleaned_data['Height'] = cleaned_data['Height'].fillna(height_by_position)\n"
   ]
  },
  {
   "cell_type": "code",
   "execution_count": 31,
   "metadata": {},
   "outputs": [],
   "source": [
    "cleaned_data['Has_Contract_Info'] = cleaned_data['Contract_Expiry'].notna().astype(int)\n",
    "cleaned_data['Contract_Expiry'] = pd.to_datetime(cleaned_data['Contract_Expiry'], errors='coerce')\n",
    "cleaned_data['Contract_Months_Remaining'] = (cleaned_data['Contract_Expiry'] - pd.Timestamp.now()).dt.total_seconds() / (30 * 24 * 60 * 60)\n",
    "cleaned_data['Contract_Months_Remaining'] = cleaned_data['Contract_Months_Remaining'].fillna(-1)\n"
   ]
  },
  {
   "cell_type": "code",
   "execution_count": 32,
   "metadata": {},
   "outputs": [],
   "source": [
    "cleaned_data['Current_Value'] = cleaned_data['Current_Value'].fillna(0)\n",
    "cleaned_data['Peak_Value'] = cleaned_data['Peak_Value'].fillna(0)\n"
   ]
  },
  {
   "cell_type": "code",
   "execution_count": 33,
   "metadata": {},
   "outputs": [],
   "source": [
    "cleaned_data['Team_Average_Age'] = cleaned_data['Team_Average_Age'].fillna(cleaned_data['Team_Average_Age'].mean())\n"
   ]
  },
  {
   "cell_type": "code",
   "execution_count": 34,
   "metadata": {},
   "outputs": [],
   "source": [
    "career_stats = ['Career_Games', 'Career_Minutes', 'Career_Goals', 'Career_Assists', \n",
    "                'Career_Yellows', 'Career_Reds', 'Goals_Per_Game', 'Assists_Per_Game', \n",
    "                'Minutes_Per_Game']\n",
    "\n",
    "for col in career_stats:\n",
    "    # Fill with 0 for new players, median for others based on position\n",
    "    position_medians = cleaned_data.groupby('Position')[col].transform('median')\n",
    "    cleaned_data[col] = cleaned_data[col].fillna(position_medians)\n",
    "    cleaned_data[col] = cleaned_data[col].fillna(0)  # Fill remaining NAs with 0\n"
   ]
  },
  {
   "cell_type": "code",
   "execution_count": 35,
   "metadata": {},
   "outputs": [],
   "source": [
    "categorical_cols = ['Position', 'Sub_Position', 'Preferred_Foot', 'Career_Phase', 'Nationality']\n",
    "cleaned_data = pd.get_dummies(cleaned_data, columns=categorical_cols, drop_first=True)\n"
   ]
  },
  {
   "cell_type": "code",
   "execution_count": 36,
   "metadata": {},
   "outputs": [],
   "source": [
    "from sklearn.preprocessing import RobustScaler  # RobustScaler is better for data with outliers\n",
    "numerical_cols = ['Age', 'Height', 'Current_Value', 'Peak_Value', 'Team_Average_Age'] + career_stats\n",
    "scaler = RobustScaler()\n",
    "cleaned_data[numerical_cols] = scaler.fit_transform(cleaned_data[numerical_cols])\n"
   ]
  },
  {
   "cell_type": "code",
   "execution_count": 37,
   "metadata": {},
   "outputs": [],
   "source": [
    "cleaned_data = cleaned_data.drop(columns=['Birth_Date', 'Contract_Expiry'])  # Remove date columns after extracting features\n",
    "cleaned_data = cleaned_data.reset_index(drop=True)\n"
   ]
  },
  {
   "cell_type": "code",
   "execution_count": 38,
   "metadata": {},
   "outputs": [
    {
     "name": "stdout",
     "output_type": "stream",
     "text": [
      "Original shape: (32417, 37)\n",
      "Cleaned shape: (32417, 228)\n",
      "\n",
      "Remaining missing values:\n",
      "ID                       0\n",
      "Name                     0\n",
      "Age                      0\n",
      "Height                   0\n",
      "Current_Value            0\n",
      "                        ..\n",
      "Nationality_Venezuela    0\n",
      "Nationality_Vietnam      0\n",
      "Nationality_Wales        0\n",
      "Nationality_Zambia       0\n",
      "Nationality_Zimbabwe     0\n",
      "Length: 228, dtype: int64\n"
     ]
    }
   ],
   "source": [
    "print(\"Original shape:\", uncleaned_data.shape)\n",
    "print(\"Cleaned shape:\", cleaned_data.shape)\n",
    "print(\"\\nRemaining missing values:\")\n",
    "print(cleaned_data.isnull().sum())"
   ]
  },
  {
   "cell_type": "code",
   "execution_count": 39,
   "metadata": {},
   "outputs": [
    {
     "name": "stdout",
     "output_type": "stream",
     "text": [
      "Dataset saved successfully!\n"
     ]
    }
   ],
   "source": [
    "cleaned_data.to_csv(\"D:/Projects/Machine Learning Applications for Soccer/cleaned_player_database.csv\", index=False)\n",
    "print(\"Dataset saved successfully!\")"
   ]
  },
  {
   "cell_type": "code",
   "execution_count": 41,
   "metadata": {},
   "outputs": [],
   "source": [
    "pd.set_option('display.max_columns', 500)\n",
    "pd.set_option('display.max_rows', 500)"
   ]
  },
  {
   "cell_type": "code",
   "execution_count": 42,
   "metadata": {},
   "outputs": [
    {
     "data": {
      "text/plain": [
       "Index(['ID', 'Name', 'Age', 'Height', 'Current_Value', 'Peak_Value',\n",
       "       'Current_Club', 'League_ID', 'Squad_Size', 'Team_Average_Age',\n",
       "       ...\n",
       "       'Nationality_United Arab Emirates', 'Nationality_United States',\n",
       "       'Nationality_Unknown', 'Nationality_Uruguay', 'Nationality_Uzbekistan',\n",
       "       'Nationality_Venezuela', 'Nationality_Vietnam', 'Nationality_Wales',\n",
       "       'Nationality_Zambia', 'Nationality_Zimbabwe'],\n",
       "      dtype='object', length=228)"
      ]
     },
     "execution_count": 42,
     "metadata": {},
     "output_type": "execute_result"
    }
   ],
   "source": [
    "cleaned_data.columns"
   ]
  },
  {
   "cell_type": "code",
   "execution_count": null,
   "metadata": {},
   "outputs": [],
   "source": [
    "# Add performance metrics calculation\n",
    "def calculate_performance_metrics(df):\n",
    "    \"\"\"Calculate additional performance metrics\"\"\"\n",
    "    df['value_efficiency'] = df['Current_Value'] / df['Peak_Value']\n",
    "    df['goals_per_minute'] = df['Career_Goals'] / df['Career_Minutes']\n",
    "    df['assists_per_minute'] = df['Career_Assists'] / df['Career_Minutes']\n",
    "    \n",
    "    # Calculate progression rate (how quickly player is developing)\n",
    "    df['value_progression'] = (df['Current_Value'] - df['Peak_Value']) / df['Age']\n",
    "    \n",
    "    return df\n",
    "\n",
    "# Add career phase specific features\n",
    "def add_career_phase_features(df):\n",
    "    \"\"\"Add features specific to career phases\"\"\"\n",
    "    # Calculate time in current phase\n",
    "    phase_age_ranges = {\n",
    "        'breakthrough': (0, 21),\n",
    "        'development': (22, 25),\n",
    "        'peak': (26, 29),\n",
    "        'twilight': (30, 100)\n",
    "    }\n",
    "    \n",
    "    for phase, (min_age, max_age) in phase_age_ranges.items():\n",
    "        df[f'is_{phase}_age'] = (df['Age'] >= min_age) & (df['Age'] <= max_age)\n",
    "    \n",
    "    return df"
   ]
  },
  {
   "cell_type": "code",
   "execution_count": null,
   "metadata": {},
   "outputs": [],
   "source": [
    "cleaned_data = calculate_performance_metrics(cleaned_data)\n",
    "cleaned_data = add_career_phase_features(cleaned_data)"
   ]
  }
 ],
 "metadata": {
  "kernelspec": {
   "display_name": "Python 3 (ipykernel)",
   "language": "python",
   "name": "python3"
  },
  "language_info": {
   "codemirror_mode": {
    "name": "ipython",
    "version": 3
   },
   "file_extension": ".py",
   "mimetype": "text/x-python",
   "name": "python",
   "nbconvert_exporter": "python",
   "pygments_lexer": "ipython3",
   "version": "3.12.7"
  }
 },
 "nbformat": 4,
 "nbformat_minor": 2
}
